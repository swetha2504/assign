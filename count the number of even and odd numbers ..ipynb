{
 "cells": [
  {
   "cell_type": "code",
   "execution_count": 46,
   "id": "16defaae",
   "metadata": {},
   "outputs": [
    {
     "name": "stdout",
     "output_type": "stream",
     "text": [
      "no of even numbers: 5\n",
      "n0 of odd numbers: 4\n"
     ]
    }
   ],
   "source": [
    "arr=[2,3,4,9,8,11,13,12,14]\n",
    "even,odd= 0,0\n",
    "for i in arr:\n",
    "    if i %2 ==0:\n",
    "        even+=1\n",
    "    else :\n",
    "         odd+=1\n",
    "    \n",
    "print(\"no of even numbers:\",even)\n",
    "print (\"n0 of odd numbers:\" ,odd)"
   ]
  },
  {
   "cell_type": "code",
   "execution_count": null,
   "id": "76cdcbd7",
   "metadata": {},
   "outputs": [],
   "source": []
  },
  {
   "cell_type": "code",
   "execution_count": null,
   "id": "027b79d8",
   "metadata": {},
   "outputs": [],
   "source": []
  }
 ],
 "metadata": {
  "kernelspec": {
   "display_name": "Python 3 (ipykernel)",
   "language": "python",
   "name": "python3"
  },
  "language_info": {
   "codemirror_mode": {
    "name": "ipython",
    "version": 3
   },
   "file_extension": ".py",
   "mimetype": "text/x-python",
   "name": "python",
   "nbconvert_exporter": "python",
   "pygments_lexer": "ipython3",
   "version": "3.10.9"
  }
 },
 "nbformat": 4,
 "nbformat_minor": 5
}
